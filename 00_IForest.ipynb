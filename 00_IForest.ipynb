{
 "cells": [
  {
   "cell_type": "markdown",
   "metadata": {},
   "source": [
    "# Isolation Forest"
   ]
  },
  {
   "cell_type": "code",
   "execution_count": 1,
   "metadata": {},
   "outputs": [],
   "source": [
    "import datetime as dt\n",
    "\n",
    "import numpy as np\n",
    "import pandas as pd\n",
    "\n",
    "%matplotlib inline\n",
    "import matplotlib.pyplot as plt\n",
    "import seaborn as sns\n",
    "\n",
    "import shap\n",
    "\n",
    "import joblib\n",
    "\n",
    "from sklearn.ensemble import IsolationForest"
   ]
  },
  {
   "cell_type": "code",
   "execution_count": 2,
   "metadata": {},
   "outputs": [],
   "source": [
    "NO_FEATURES = ['id', 'tile', 'cnt', 'ra_k', 'dec_k']\n",
    "\n",
    "FEATURES = [\n",
    "   'Amplitude', 'Autocor_length',\n",
    "   'Beyond1Std', 'Con', 'Eta_e', 'FluxPercentileRatioMid20',\n",
    "   'FluxPercentileRatioMid35', 'FluxPercentileRatioMid50',\n",
    "   'FluxPercentileRatioMid65', 'FluxPercentileRatioMid80',\n",
    "   'Freq1_harmonics_amplitude_0', 'Freq1_harmonics_amplitude_1',\n",
    "   'Freq1_harmonics_amplitude_2', 'Freq1_harmonics_amplitude_3',\n",
    "   'Freq1_harmonics_rel_phase_1', 'Freq1_harmonics_rel_phase_2',\n",
    "   'Freq1_harmonics_rel_phase_3', 'Freq2_harmonics_amplitude_0',\n",
    "   'Freq2_harmonics_amplitude_1', 'Freq2_harmonics_amplitude_2',\n",
    "   'Freq2_harmonics_amplitude_3', 'Freq2_harmonics_rel_phase_1',\n",
    "   'Freq2_harmonics_rel_phase_2', 'Freq2_harmonics_rel_phase_3',\n",
    "   'Freq3_harmonics_amplitude_0', 'Freq3_harmonics_amplitude_1',\n",
    "   'Freq3_harmonics_amplitude_2', 'Freq3_harmonics_amplitude_3',\n",
    "   'Freq3_harmonics_rel_phase_1', 'Freq3_harmonics_rel_phase_2',\n",
    "   'Freq3_harmonics_rel_phase_3', 'Gskew', 'LinearTrend', 'MaxSlope',\n",
    "   'Mean', 'MedianAbsDev', 'MedianBRP', 'PairSlopeTrend',\n",
    "   'PercentAmplitude', 'PercentDifferenceFluxPercentile', 'PeriodLS',\n",
    "   'Period_fit', 'Psi_CS', 'Psi_eta', 'Q31', 'Rcs', 'Skew',\n",
    "   'SmallKurtosis', 'Std', 'c89_c3', 'c89_hk_color', 'c89_jh_color',\n",
    "   'c89_jk_color', 'c89_m2', 'c89_m4', 'n09_c3', 'n09_hk_color',\n",
    "   'n09_jh_color', 'n09_jk_color', 'n09_m2', 'n09_m4', 'ppmb']\n",
    "\n",
    "MIN_SAMPLES = len(FEATURES) * 2"
   ]
  },
  {
   "cell_type": "code",
   "execution_count": 3,
   "metadata": {},
   "outputs": [
    {
     "name": "stdout",
     "output_type": "stream",
     "text": [
      "CPU times: user 1min 13s, sys: 476 ms, total: 1min 13s\n",
      "Wall time: 1min 13s\n"
     ]
    }
   ],
   "source": [
    "%%time\n",
    "\n",
    "datas = {\n",
    "    \"b216\": joblib.load(\"_data/blz_b216_3849_scaled.pkl.bz2\"),\n",
    "    \"b277\": joblib.load(\"_data/blz_b277_3041_scaled.pkl.bz2\")\n",
    "}"
   ]
  },
  {
   "cell_type": "code",
   "execution_count": null,
   "metadata": {},
   "outputs": [],
   "source": [
    "\n",
    "results, trees = {}, {}\n",
    "for k, v in datas.items():\n",
    "    print(f\"[{dt.datetime.now()}] {k}\")\n",
    "    \n",
    "    clf = IsolationForest(\n",
    "        contamination='auto', \n",
    "        n_jobs=-1, \n",
    "        random_state=42)\n",
    "    \n",
    "    X = v[FEATURES].values\n",
    "    \n",
    "    trees[k] = clf\n",
    "    results[k] = clf.fit_predict(X)\n",
    "    "
   ]
  },
  {
   "cell_type": "code",
   "execution_count": 7,
   "metadata": {},
   "outputs": [
    {
     "name": "stdout",
     "output_type": "stream",
     "text": [
      "[2020-02-27 15:06:06.861022] b216\n"
     ]
    },
    {
     "name": "stderr",
     "output_type": "stream",
     "text": [
      "Setting feature_perturbation = \"tree_path_dependent\" because no background data was given.\n"
     ]
    },
    {
     "name": "stdout",
     "output_type": "stream",
     "text": [
      "[2020-02-27 15:19:22.936169] b277\n"
     ]
    },
    {
     "name": "stderr",
     "output_type": "stream",
     "text": [
      "Setting feature_perturbation = \"tree_path_dependent\" because no background data was given.\n"
     ]
    },
    {
     "name": "stdout",
     "output_type": "stream",
     "text": [
      "CPU times: user 39min 32s, sys: 1.54 s, total: 39min 33s\n",
      "Wall time: 39min 30s\n"
     ]
    }
   ],
   "source": [
    "%%time\n",
    "\n",
    "shaps = {}\n",
    "for k, v in datas.items():\n",
    "    print(f\"[{dt.datetime.now()}] {k}\")\n",
    "    clf = trees[k]\n",
    "    shaps[k] = shap.TreeExplainer(clf).shap_values(v[FEATURES].values)"
   ]
  },
  {
   "cell_type": "code",
   "execution_count": 9,
   "metadata": {},
   "outputs": [
    {
     "name": "stdout",
     "output_type": "stream",
     "text": [
      "CPU times: user 1min 17s, sys: 492 ms, total: 1min 17s\n",
      "Wall time: 1min 17s\n"
     ]
    },
    {
     "data": {
      "text/html": [
       "['results/iforest.pkl.bz2']"
      ],
      "text/plain": [
       "['results/iforest.pkl.bz2']"
      ]
     },
     "execution_count": 9,
     "metadata": {},
     "output_type": "execute_result"
    }
   ],
   "source": [
    "%%time\n",
    "joblib.dump({\n",
    "    \"trees\": trees,\n",
    "    \"results\": results,\n",
    "    \"shaps\": shaps\n",
    "}, \"results/results.pkl.bz2\", compress=3)"
   ]
  },
  {
   "cell_type": "code",
   "execution_count": null,
   "metadata": {},
   "outputs": [],
   "source": [
    "dt.datetime.now()"
   ]
  }
 ],
 "metadata": {
  "kernelspec": {
   "display_name": "Python 3",
   "language": "python",
   "name": "python3"
  },
  "language_info": {
   "codemirror_mode": {
    "name": "ipython",
    "version": 3
   },
   "file_extension": ".py",
   "mimetype": "text/x-python",
   "name": "python",
   "nbconvert_exporter": "python",
   "pygments_lexer": "ipython3",
   "version": "3.7.6"
  }
 },
 "nbformat": 4,
 "nbformat_minor": 4
}
