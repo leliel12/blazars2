{
 "cells": [
  {
   "cell_type": "markdown",
   "metadata": {},
   "source": [
    "# Isolation Forest"
   ]
  },
  {
   "cell_type": "code",
   "execution_count": 1,
   "metadata": {},
   "outputs": [],
   "source": [
    "import datetime as dt\n",
    "\n",
    "import numpy as np\n",
    "import pandas as pd\n",
    "\n",
    "%matplotlib inline\n",
    "import matplotlib.pyplot as plt\n",
    "import seaborn as sns\n",
    "\n",
    "import shap\n",
    "\n",
    "import joblib\n",
    "\n",
    "from sklearn.ensemble import IsolationForest"
   ]
  },
  {
   "cell_type": "code",
   "execution_count": 2,
   "metadata": {},
   "outputs": [],
   "source": [
    "NO_FEATURES = ['id', 'tile', 'cnt', 'ra_k', 'dec_k']\n",
    "\n",
    "FEATURES = [\n",
    "   'Amplitude', 'Autocor_length',\n",
    "   'Beyond1Std', 'Con', 'Eta_e', 'FluxPercentileRatioMid20',\n",
    "   'FluxPercentileRatioMid35', 'FluxPercentileRatioMid50',\n",
    "   'FluxPercentileRatioMid65', 'FluxPercentileRatioMid80',\n",
    "   'Freq1_harmonics_amplitude_0', 'Freq1_harmonics_amplitude_1',\n",
    "   'Freq1_harmonics_amplitude_2', 'Freq1_harmonics_amplitude_3',\n",
    "   'Freq1_harmonics_rel_phase_1', 'Freq1_harmonics_rel_phase_2',\n",
    "   'Freq1_harmonics_rel_phase_3', 'Freq2_harmonics_amplitude_0',\n",
    "   'Freq2_harmonics_amplitude_1', 'Freq2_harmonics_amplitude_2',\n",
    "   'Freq2_harmonics_amplitude_3', 'Freq2_harmonics_rel_phase_1',\n",
    "   'Freq2_harmonics_rel_phase_2', 'Freq2_harmonics_rel_phase_3',\n",
    "   'Freq3_harmonics_amplitude_0', 'Freq3_harmonics_amplitude_1',\n",
    "   'Freq3_harmonics_amplitude_2', 'Freq3_harmonics_amplitude_3',\n",
    "   'Freq3_harmonics_rel_phase_1', 'Freq3_harmonics_rel_phase_2',\n",
    "   'Freq3_harmonics_rel_phase_3', 'Gskew', 'LinearTrend', 'MaxSlope',\n",
    "   'Mean', 'MedianAbsDev', 'MedianBRP', 'PairSlopeTrend',\n",
    "   'PercentAmplitude', 'PercentDifferenceFluxPercentile', 'PeriodLS',\n",
    "   'Period_fit', 'Psi_CS', 'Psi_eta', 'Q31', 'Rcs', 'Skew',\n",
    "   'SmallKurtosis', 'Std', 'c89_c3', 'c89_hk_color', 'c89_jh_color',\n",
    "   'c89_jk_color', 'c89_m2', 'c89_m4', 'n09_c3', 'n09_hk_color',\n",
    "   'n09_jh_color', 'n09_jk_color', 'n09_m2', 'n09_m4', 'ppmb']\n",
    "\n",
    "MIN_SAMPLES = len(FEATURES) * 2"
   ]
  },
  {
   "cell_type": "code",
   "execution_count": 3,
   "metadata": {},
   "outputs": [
    {
     "name": "stdout",
     "output_type": "stream",
     "text": [
      "CPU times: user 1min 15s, sys: 466 ms, total: 1min 16s\n",
      "Wall time: 1min 16s\n"
     ]
    }
   ],
   "source": [
    "%%time\n",
    "\n",
    "datas = {\n",
    "    \"b216\": joblib.load(\"_data/blz_b216_3849_scaled.pkl.bz2\"),\n",
    "    \"b277\": joblib.load(\"_data/blz_b277_3041_scaled.pkl.bz2\")\n",
    "}"
   ]
  },
  {
   "cell_type": "code",
   "execution_count": 4,
   "metadata": {},
   "outputs": [
    {
     "name": "stdout",
     "output_type": "stream",
     "text": [
      "[2020-03-05 15:56:53.306277] b216\n",
      "[2020-03-05 15:57:27.080018] b277\n",
      "CPU times: user 3min 7s, sys: 54 s, total: 4min 2s\n",
      "Wall time: 1min 46s\n"
     ]
    }
   ],
   "source": [
    "%%time\n",
    "results, trees = {}, {}\n",
    "for k, v in datas.items():\n",
    "    print(f\"[{dt.datetime.now()}] {k}\")\n",
    "    \n",
    "    clf = IsolationForest(\n",
    "        contamination='auto', \n",
    "        n_jobs=-1, \n",
    "        random_state=42)\n",
    "    \n",
    "    X = v[FEATURES].values\n",
    "    \n",
    "    trees[k] = clf\n",
    "    results[k] = clf.fit_predict(X)\n",
    "    "
   ]
  },
  {
   "cell_type": "code",
   "execution_count": 5,
   "metadata": {},
   "outputs": [
    {
     "name": "stdout",
     "output_type": "stream",
     "text": [
      "[2020-03-05 15:58:40.306763] b216\n"
     ]
    },
    {
     "name": "stderr",
     "output_type": "stream",
     "text": [
      "Setting feature_perturbation = \"tree_path_dependent\" because no background data was given.\n",
      "The sklearn.ensemble.iforest module is  deprecated in version 0.22 and will be removed in version 0.24. The corresponding classes / functions should instead be imported from sklearn.ensemble. Anything that cannot be imported from sklearn.ensemble is now part of the private API.\n"
     ]
    },
    {
     "name": "stdout",
     "output_type": "stream",
     "text": [
      "[2020-03-05 16:11:56.470736] b277\n"
     ]
    },
    {
     "name": "stderr",
     "output_type": "stream",
     "text": [
      "Setting feature_perturbation = \"tree_path_dependent\" because no background data was given.\n"
     ]
    },
    {
     "name": "stdout",
     "output_type": "stream",
     "text": [
      "CPU times: user 39min 34s, sys: 1.6 s, total: 39min 35s\n",
      "Wall time: 39min 32s\n"
     ]
    }
   ],
   "source": [
    "%%time\n",
    "\n",
    "shaps = {}\n",
    "for k, v in datas.items():\n",
    "    print(f\"[{dt.datetime.now()}] {k}\")\n",
    "    clf = trees[k]\n",
    "    shaps[k] = shap.TreeExplainer(clf).shap_values(v[FEATURES].values)"
   ]
  },
  {
   "cell_type": "code",
   "execution_count": 6,
   "metadata": {},
   "outputs": [
    {
     "name": "stdout",
     "output_type": "stream",
     "text": [
      "CPU times: user 1min 20s, sys: 526 ms, total: 1min 20s\n",
      "Wall time: 1min 22s\n"
     ]
    },
    {
     "data": {
      "text/html": [
       "['results/results.pkl.bz2']"
      ],
      "text/plain": [
       "['results/results.pkl.bz2']"
      ]
     },
     "execution_count": 6,
     "metadata": {},
     "output_type": "execute_result"
    }
   ],
   "source": [
    "%%time\n",
    "joblib.dump({\n",
    "    \"trees\": trees,\n",
    "    \"results\": results,\n",
    "    \"shaps\": shaps\n",
    "}, \"results/00_iforest/results.pkl.bz2\", compress=3)"
   ]
  },
  {
   "cell_type": "code",
   "execution_count": 7,
   "metadata": {},
   "outputs": [
    {
     "data": {
      "text/plain": [
       "datetime.datetime(2020, 3, 5, 16, 39, 35, 66367)"
      ]
     },
     "execution_count": 7,
     "metadata": {},
     "output_type": "execute_result"
    }
   ],
   "source": [
    "dt.datetime.now()"
   ]
  }
 ],
 "metadata": {
  "kernelspec": {
   "display_name": "Python 3",
   "language": "python",
   "name": "python3"
  },
  "language_info": {
   "codemirror_mode": {
    "name": "ipython",
    "version": 3
   },
   "file_extension": ".py",
   "mimetype": "text/x-python",
   "name": "python",
   "nbconvert_exporter": "python",
   "pygments_lexer": "ipython3",
   "version": "3.7.6"
  }
 },
 "nbformat": 4,
 "nbformat_minor": 4
}
